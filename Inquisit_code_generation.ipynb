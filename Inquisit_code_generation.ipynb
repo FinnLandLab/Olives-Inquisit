{
 "cells": [
  {
   "cell_type": "code",
   "execution_count": 14,
   "metadata": {
    "collapsed": true
   },
   "outputs": [],
   "source": [
    "import glob\n",
    "import pandas as pd\n",
    "import os\n",
    "from shutil import copyfile"
   ]
  },
  {
   "cell_type": "markdown",
   "metadata": {},
   "source": [
    "## Convert the CSV files into Inquisit code"
   ]
  },
  {
   "cell_type": "code",
   "execution_count": 3,
   "metadata": {
    "collapsed": false
   },
   "outputs": [
    {
     "name": "stdout",
     "output_type": "stream",
     "text": [
      "participants/participant_1_probability.csv\n",
      "participants/participant_1_test.csv\n",
      "participants/participant_1_test_probability.csv\n",
      "participants/participant_1_training.csv\n",
      "participants/participant_2_probability.csv\n",
      "participants/participant_2_test.csv\n",
      "participants/participant_2_test_probability.csv\n",
      "participants/participant_2_training.csv\n"
     ]
    }
   ],
   "source": [
    "files = glob.glob('participants/*.csv')\n",
    "\n",
    "for fp in files:\n",
    "    df = pd.read_csv(fp)\n",
    "    print fp\n",
    "    items = \"\"\n",
    "    file_name = fp.split(os.sep)[1].split('.')[0]\n",
    "    for col in df.columns.values:\n",
    "        items += '<item %s_%s>\\n' % (file_name, col)\n",
    "        i = 1\n",
    "        for index, row in df[col].iteritems():\n",
    "            items += '/%d = \\\"%s\\\"\\n' % (i, row)\n",
    "            i += 1\n",
    "\n",
    "        items += '</item>\\n'\n",
    "        fp = open('output_inquisit/%s.txt' % file_name, 'w')\n",
    "        fp.write(items)\n",
    "        fp.close()"
   ]
  },
  {
   "cell_type": "markdown",
   "metadata": {},
   "source": [
    "## Convert dot positions into Inquisit coordinates"
   ]
  },
  {
   "cell_type": "code",
   "execution_count": 67,
   "metadata": {
    "collapsed": false
   },
   "outputs": [],
   "source": [
    "dot_value_conversion_x = {1:\"44%\", 2:\"50%\", 3:\"56%\", 4:\"43%\", 5:\"50%\", 6:\"57%\", 7:\"44%\", 8:\"50%\", 9:\"56%\"}\n",
    "\n",
    "dot_value_conversion_y = {1:\"43%\", 2:\"38%\", 3:\"43%\", 4:\"50%\", 5:\"50%\", 6:\"50%\", 7:\"57%\", 8:\"63%\", 9:\"57%\"}\n",
    "\n",
    "files = glob.glob('participants/*/*_training.csv')\n",
    "for f in files:\n",
    "    df = pd.read_csv(f)\n",
    "    df['dot_values_y'] = df['dot_values']\n",
    "    df.rename(columns={'dot_values':'dot_values_x'}, inplace=True)\n",
    "    df['dot_values_x'] = df['dot_values_x'].replace(dot_value_conversion_x).fillna(\"5000%\")\n",
    "    df['dot_values_y'] = df['dot_values_y'].replace(dot_value_conversion_y).fillna(\"5000%\")\n",
    "    \n",
    "    df['square_colour'] = df['colour_values'].isnull()\n",
    "    df['square_colour'] = df['square_colour'].replace({True:'Black', False: 'transparent'})\n",
    "    \n",
    "    df['colour_values'] = df['colour_values'].fillna('transparent')\n",
    "    df.to_csv(f, index=False)"
   ]
  },
  {
   "cell_type": "code",
   "execution_count": 71,
   "metadata": {
    "collapsed": true
   },
   "outputs": [],
   "source": [
    "dot_value_conversion_left_x = {1:\"19%\", 2:\"25%\", 3:\"31%\", 4:\"18%\", 5:\"25%\", 6:\"32%\", 7:\"19%\", 8:\"25%\", 9:\"31%\"}\n",
    "\n",
    "dot_value_conversion_y = {1:\"43%\", 2:\"38%\", 3:\"43%\", 4:\"50%\", 5:\"50%\", 6:\"50%\", 7:\"57%\", 8:\"63%\", 9:\"57%\"}\n",
    "\n",
    "dot_value_conversion_right_x = {1:\"69%\", 2:\"75%\", 3:\"81%\", 4:\"68%\", 5:\"75%\", 6:\"82%\", 7:\"69%\", 8:\"75%\", 9:\"81%\"}\n",
    "\n",
    "files = glob.glob('participants/*/*_test.csv')\n",
    "for f in files:\n",
    "    df = pd.read_csv(f)\n",
    "    \n",
    "    df['stim1_dots1_y'] = df['stim1_dots1']\n",
    "    df['stim1_dots1_y'] = df['stim1_dots1_y'].replace(dot_value_conversion_y)\n",
    "    df.rename(columns={'stim1_dots1':'stim1_dots1_x'}, inplace=True)\n",
    "    df['stim1_dots1_x'] = df['stim1_dots1_x'].replace(dot_value_conversion_left_x)\n",
    "\n",
    "    df['stim1_dots2_y'] = df['stim1_dots2']\n",
    "    df['stim1_dots2_y'] = df['stim1_dots2_y'].replace(dot_value_conversion_y)\n",
    "    df.rename(columns={'stim1_dots2':'stim1_dots2_x'}, inplace=True)\n",
    "    df['stim1_dots2_x'] = df['stim1_dots2_x'].replace(dot_value_conversion_left_x)\n",
    "\n",
    "    df['stim1_dots3_y'] = df['stim1_dots3']\n",
    "    df['stim1_dots3_y'] = df['stim1_dots3_y'].replace(dot_value_conversion_y)\n",
    "    df.rename(columns={'stim1_dots3':'stim1_dots3_x'}, inplace=True)\n",
    "    df['stim1_dots3_x'] = df['stim1_dots3_x'].replace(dot_value_conversion_left_x)\n",
    "\n",
    "    \n",
    "    df['stim2_dots1_y'] = df['stim2_dots1']\n",
    "    df['stim2_dots1_y'] = df['stim2_dots1_y'].replace(dot_value_conversion_y)\n",
    "    df.rename(columns={'stim2_dots1':'stim2_dots1_x'}, inplace=True)\n",
    "    df['stim2_dots1_x'] = df['stim2_dots1_x'].replace(dot_value_conversion_right_x)\n",
    "\n",
    "    df['stim2_dots2_y'] = df['stim2_dots2']\n",
    "    df['stim2_dots2_y'] = df['stim2_dots2_y'].replace(dot_value_conversion_y)\n",
    "    df.rename(columns={'stim2_dots2':'stim2_dots2_x'}, inplace=True)\n",
    "    df['stim2_dots2_x'] = df['stim2_dots2_x'].replace(dot_value_conversion_right_x)\n",
    "\n",
    "    df['stim2_dots3_y'] = df['stim2_dots3']\n",
    "    df['stim2_dots3_y'] = df['stim2_dots3_y'].replace(dot_value_conversion_y)\n",
    "    df.rename(columns={'stim2_dots3':'stim2_dots3_x'}, inplace=True)\n",
    "    df['stim2_dots3_x'] = df['stim2_dots3_x'].replace(dot_value_conversion_right_x)\n",
    "    \n",
    "    df.to_csv(f, index=False)"
   ]
  },
  {
   "cell_type": "markdown",
   "metadata": {},
   "source": [
    "## Create Main Inquisit file. Alternate between the two possible orderings "
   ]
  },
  {
   "cell_type": "code",
   "execution_count": 73,
   "metadata": {
    "collapsed": true
   },
   "outputs": [],
   "source": [
    "num_of_subjects = 1000\n",
    "\n",
    "var = \"<batch>\\n\" \\\n",
    "      \"/ subjects = (%i of \" \\\n",
    "      + str(num_of_subjects) + \\\n",
    "      \")\\n\" \\\n",
    "      \"/ file = \\\"ordering%i.iqx\\\"\\n\" \\\n",
    "      \"</batch>\\n\\n\"\n",
    "\n",
    "fp = open('olives.iqx', 'w')\n",
    "\n",
    "j = 1\n",
    "for i in range(1, num_of_subjects + 1):\n",
    "    fp.write(var % (i, j))\n",
    "    j = j + 1 if j < 2 else 1\n",
    "\n",
    "fp.close()"
   ]
  },
  {
   "cell_type": "markdown",
   "metadata": {
    "collapsed": true
   },
   "source": [
    "### IMAGE CHANGES"
   ]
  },
  {
   "cell_type": "code",
   "execution_count": 24,
   "metadata": {
    "collapsed": false
   },
   "outputs": [],
   "source": [
    "# 2  - 10 : Purple x\n",
    "# 12 - 20 : Blue x\n",
    "# 22 - 30 : Brown x\n",
    "# 32 - 40 : Green x\n",
    "# 42 - 50 : Gray x\n",
    "# 52 - 60 : Pink x\n",
    "# 62 - 70 : Orange x\n",
    "# 72 - 80 : Red x\n",
    "# 82 - 90 : Yellow x\n",
    "\n",
    "images = glob.glob('all olives/*.png')\n",
    "\n",
    "for i in images:\n",
    "    img = int(i.split(os.sep)[1][5:-4])\n",
    "    if img > 1  and img < 11:\n",
    "        copyfile(i, 'all olives/fixed/Purple_%d.png' % (img-1))\n",
    "    elif img > 11 and img < 21:\n",
    "        copyfile(i, 'all olives/fixed/Blue_%d.png' % (img-11))\n",
    "    elif img > 21 and img < 31:\n",
    "        copyfile(i, 'all olives/fixed/Brown_%d.png' % (img-21))\n",
    "    elif img > 31 and img < 41:\n",
    "        copyfile(i, 'all olives/fixed/Green_%d.png' % (img-31))\n",
    "    elif img > 41 and img < 51:\n",
    "        copyfile(i, 'all olives/fixed/DarkGray_%d.png' % (img-41))\n",
    "    elif img > 51 and img < 61:\n",
    "        copyfile(i, 'all olives/fixed/LightPink_%d.png' % (img-51))\n",
    "    elif img > 61 and img < 71:\n",
    "        copyfile(i, 'all olives/fixed/Orange_%d.png' % (img-61))\n",
    "    elif img > 71 and img < 81:\n",
    "        copyfile(i, 'all olives/fixed/Red_%d.png' % (img-71))\n",
    "    elif img > 81 and img < 91:\n",
    "        copyfile(i, 'all olives/fixed/Yellow_%d.png' % (img-81))"
   ]
  },
  {
   "cell_type": "code",
   "execution_count": null,
   "metadata": {
    "collapsed": true
   },
   "outputs": [],
   "source": []
  },
  {
   "cell_type": "code",
   "execution_count": null,
   "metadata": {
    "collapsed": true
   },
   "outputs": [],
   "source": []
  }
 ],
 "metadata": {
  "kernelspec": {
   "display_name": "Python 2",
   "language": "python",
   "name": "python2"
  },
  "language_info": {
   "codemirror_mode": {
    "name": "ipython",
    "version": 2
   },
   "file_extension": ".py",
   "mimetype": "text/x-python",
   "name": "python",
   "nbconvert_exporter": "python",
   "pygments_lexer": "ipython2",
   "version": "2.7.12"
  }
 },
 "nbformat": 4,
 "nbformat_minor": 0
}
